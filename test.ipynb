{
 "cells": [
  {
   "cell_type": "code",
   "execution_count": 15,
   "metadata": {},
   "outputs": [],
   "source": [
    "import pandas as pd"
   ]
  },
  {
   "cell_type": "code",
   "execution_count": 5,
   "metadata": {},
   "outputs": [],
   "source": [
    "data_list = [\n",
    "    23, 451, 98, 312, 76, 219, \"apple\", 182, 400, 95, 210,\n",
    "    37, 190, 475, \"banana\", 275, 318, 290, 365, 490, 132,\n",
    "    267, \"grape\", 345, 201, 499, 78, 215, 370, \"cherry\",\n",
    "    405, 123, 287, 450, 398, 176, 329, 288, 190, 209,\n",
    "    \"mango\", 255, 300, 410, 126, 497, 372, 213, 65, \"peach\",\n",
    "    435, 385, 278, 490, 155, 420, 370, 132, 390, \"kiwi\",\n",
    "    415, 112, 240, 321, 480, 170, 270, \"pear\", 335, 310,\n",
    "    455, 101, 375, 295, 310, 428, 178, 130, 199,\n",
    "    \"strawberry\", 250, 340, 408, 275, 140, 306, 357, 195,\n",
    "    310, \"plum\", 410, 375, 198, 220, 314, \"4\", \"8+\", \"9%\"\n",
    "]"
   ]
  },
  {
   "cell_type": "code",
   "execution_count": 6,
   "metadata": {},
   "outputs": [
    {
     "name": "stdout",
     "output_type": "stream",
     "text": [
      "[23, 451, 98, 312, 76, 219, 182, 400, 95, 210, 37, 190, 475, 275, 318, 290, 365, 490, 132, 267, 345, 201, 499, 78, 215, 370, 405, 123, 287, 450, 398, 176, 329, 288, 190, 209, 255, 300, 410, 126, 497, 372, 213, 65, 435, 385, 278, 490, 155, 420, 370, 132, 390, 415, 112, 240, 321, 480, 170, 270, 335, 310, 455, 101, 375, 295, 310, 428, 178, 130, 199, 250, 340, 408, 275, 140, 306, 357, 195, 310, 410, 375, 198, 220, 314]\n"
     ]
    }
   ],
   "source": [
    "cleaned_data  = [item for item in data_list if isinstance(item, int)]\n",
    "print(cleaned_data)"
   ]
  },
  {
   "cell_type": "code",
   "execution_count": 12,
   "metadata": {},
   "outputs": [
    {
     "name": "stdout",
     "output_type": "stream",
     "text": [
      "[23, 451, 98, 312, 76, 219, 0, 182, 400, 95, 210, 37, 190, 475, 0, 275, 318, 290, 365, 490, 132, 267, 0, 345, 201, 499, 78, 215, 370, 0, 405, 123, 287, 450, 398, 176, 329, 288, 190, 209, 0, 255, 300, 410, 126, 497, 372, 213, 65, 0, 435, 385, 278, 490, 155, 420, 370, 132, 390, 0, 415, 112, 240, 321, 480, 170, 270, 0, 335, 310, 455, 101, 375, 295, 310, 428, 178, 130, 199, 0, 250, 340, 408, 275, 140, 306, 357, 195, 310, 0, 410, 375, 198, 220, 314, 0, 0, 0]\n"
     ]
    }
   ],
   "source": [
    "clean_Data = []\n",
    "for x in data_list:\n",
    "    if isinstance(x, int):\n",
    "        clean_Data.append(x)\n",
    "    else:\n",
    "        clean_Data.append(0)\n",
    "print(clean_Data)"
   ]
  },
  {
   "cell_type": "code",
   "execution_count": 14,
   "metadata": {},
   "outputs": [],
   "source": [
    "data = {\n",
    "     'Name': ['Alice', 'Bob', 'Charlie', 'David'], \n",
    "     'Age': [24, 27, 22, 32], \n",
    "     'City': ['New York', 'Los Angeles', 'Chicago', 'Houston'] \n",
    "     }"
   ]
  },
  {
   "cell_type": "code",
   "execution_count": 17,
   "metadata": {},
   "outputs": [
    {
     "data": {
      "text/html": [
       "<div>\n",
       "<style scoped>\n",
       "    .dataframe tbody tr th:only-of-type {\n",
       "        vertical-align: middle;\n",
       "    }\n",
       "\n",
       "    .dataframe tbody tr th {\n",
       "        vertical-align: top;\n",
       "    }\n",
       "\n",
       "    .dataframe thead th {\n",
       "        text-align: right;\n",
       "    }\n",
       "</style>\n",
       "<table border=\"1\" class=\"dataframe\">\n",
       "  <thead>\n",
       "    <tr style=\"text-align: right;\">\n",
       "      <th></th>\n",
       "      <th>Name</th>\n",
       "      <th>Age</th>\n",
       "      <th>City</th>\n",
       "    </tr>\n",
       "  </thead>\n",
       "  <tbody>\n",
       "    <tr>\n",
       "      <th>0</th>\n",
       "      <td>Alice</td>\n",
       "      <td>24</td>\n",
       "      <td>New York</td>\n",
       "    </tr>\n",
       "    <tr>\n",
       "      <th>1</th>\n",
       "      <td>Bob</td>\n",
       "      <td>27</td>\n",
       "      <td>Los Angeles</td>\n",
       "    </tr>\n",
       "    <tr>\n",
       "      <th>2</th>\n",
       "      <td>Charlie</td>\n",
       "      <td>22</td>\n",
       "      <td>Chicago</td>\n",
       "    </tr>\n",
       "    <tr>\n",
       "      <th>3</th>\n",
       "      <td>David</td>\n",
       "      <td>32</td>\n",
       "      <td>Houston</td>\n",
       "    </tr>\n",
       "  </tbody>\n",
       "</table>\n",
       "</div>"
      ],
      "text/plain": [
       "      Name  Age         City\n",
       "0    Alice   24     New York\n",
       "1      Bob   27  Los Angeles\n",
       "2  Charlie   22      Chicago\n",
       "3    David   32      Houston"
      ]
     },
     "execution_count": 17,
     "metadata": {},
     "output_type": "execute_result"
    }
   ],
   "source": [
    "df = pd.DataFrame(data)\n",
    "df"
   ]
  }
 ],
 "metadata": {
  "kernelspec": {
   "display_name": "Python 3",
   "language": "python",
   "name": "python3"
  },
  "language_info": {
   "codemirror_mode": {
    "name": "ipython",
    "version": 3
   },
   "file_extension": ".py",
   "mimetype": "text/x-python",
   "name": "python",
   "nbconvert_exporter": "python",
   "pygments_lexer": "ipython3",
   "version": "3.11.9"
  }
 },
 "nbformat": 4,
 "nbformat_minor": 2
}
